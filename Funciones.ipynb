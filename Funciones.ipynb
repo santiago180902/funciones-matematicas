{
  "nbformat": 4,
  "nbformat_minor": 0,
  "metadata": {
    "colab": {
      "provenance": [],
      "authorship_tag": "ABX9TyOHr5gyUehQzdI45yD+S/UN",
      "include_colab_link": true
    },
    "kernelspec": {
      "name": "python3",
      "display_name": "Python 3"
    },
    "language_info": {
      "name": "python"
    }
  },
  "cells": [
    {
      "cell_type": "markdown",
      "metadata": {
        "id": "view-in-github",
        "colab_type": "text"
      },
      "source": [
        "<a href=\"https://colab.research.google.com/github/santiago180902/funciones-matematicas/blob/main/Funciones.ipynb\" target=\"_parent\"><img src=\"https://colab.research.google.com/assets/colab-badge.svg\" alt=\"Open In Colab\"/></a>"
      ]
    },
    {
      "cell_type": "code",
      "source": [
        "# importamos la libreria matplolib y numpy y le asignamos un alias\n",
        "import numpy as np\n",
        "import math as ma\n",
        "import matplotlib.pyplot as plt\n",
        "\n",
        "\n",
        "def funcion_lineal(m,x,b):\n",
        "  return m*x+b\n",
        "\n",
        "def funcion_cuadratica(a,x,b,c):\n",
        "  return a*x**2 + b*x + c\n",
        "\n",
        "def funcion_cubica(a,x,b,c,d):\n",
        "  return a*x**3 + b*x**2 + c*x +d\n",
        "\n",
        "def funcion_exponencial(a,x):\n",
        "  return a**x\n",
        "\n",
        "def funcion_logaritmica"
      ],
      "metadata": {
        "id": "B8H5h6vxVaAu"
      },
      "execution_count": null,
      "outputs": []
    },
    {
      "cell_type": "code",
      "execution_count": null,
      "metadata": {
        "id": "Je4WnLx1R4kp"
      },
      "outputs": [],
      "source": [
        "N=100\n",
        "print(\"--------------------\")\n",
        "print(\"----Funcion lineal--\")\n",
        "print(\"--------------------\")\n",
        "\n",
        "m=int(input(\"digite el valor de la pendiente: \"))\n",
        "b=int(input(\"digite la ordenada al origen: \"))\n",
        "\n",
        "x=np.linspace(-10,10,num=N)\n",
        "y= funcion_lineal(m,x,b)\n",
        "\n",
        "plt.plot(x,y, color=\"r\")\n",
        "plt.xlabel(\"x\")\n",
        "plt.ylabel(\"y\")\n",
        "plt.title(\"Funcion lineal: y = mx + b\")\n",
        "plt.grid()\n",
        "plt.axhline(y=0, color=\"b\")\n",
        "plt.axvline(x=0, color=\"b\")\n",
        "plt.show()"
      ]
    },
    {
      "cell_type": "code",
      "source": [
        "N=100\n",
        "print(\"------------------------\")\n",
        "print(\"-----funcion lineal-----\")\n",
        "print(\"------------------------\")\n",
        "\n",
        "m=int(input(\"digite el valor de la pendiente: \"))\n",
        "b=int(input(\"digite la ordenada al origen: \"))\n",
        "\n",
        "x=np.linspace(-10,10,num=N)\n",
        "y= funcion_lineal(m,x,b)\n",
        "\n",
        "plt.plot(x,y, color=\"r\")\n",
        "plt.xlabel(\"x\")\n",
        "plt.ylabel(\"y\")\n",
        "plt.title(\"Funcion lineal: y = mx + b\")\n",
        "plt.grid()\n",
        "plt.axhline(y=0, color=\"B\")\n",
        "plt.axhline(x=0, color=\"b\")\n",
        "plt.show()"
      ],
      "metadata": {
        "id": "QAbyB1keg2ur"
      },
      "execution_count": null,
      "outputs": []
    },
    {
      "cell_type": "code",
      "source": [
        "N=100\n",
        "print(\"-------------------------------------------------\")\n",
        "print(\"--------Tabla de funciones-----------------------\")\n",
        "print(\"-------------------------------------------------\")\n",
        "\n",
        "print(\"opciones: \\n\")\n",
        "print(\"1. Funcion lineal. \")\n",
        "print(\"2. Funcion cuadratica.\")\n",
        "print(\"3. Funcion cubica.\")\n",
        "print(\"4. Funcion exponencial.\")\n",
        "print(\"5. Funcion logaritmica.\")\n",
        "print(\"6. Funcion trigonometrica\")\n",
        "print(\"7. Funcion valor absoluto.\")\n",
        "print(\"8. Funcion racional\")\n",
        "\n",
        "opcion = int(input(\"\\nEscoga tu opcion: \"))\n",
        "\n",
        "if opcion==1:\n",
        "  m=int(input(\"\\nDigite el valor de la pendiente: \"))\n",
        "  b= int(input(\"Digite la ordenada al origen: \"))\n",
        "\n",
        "x=np.linspace(-10,10,num=N)\n",
        "y= funcion_lineal(m,x,b)\n",
        "\n",
        "plt.plot(x,y, color=\"r\")\n",
        "plt.xlabel(\"x\")\n",
        "plt.ylabel(\"y\")\n",
        "plt.title(\"Funcion lineal: y = mx + b\")\n",
        "plt.grid()\n",
        "plt.axhline(y=0, color=\"B\")\n",
        "plt.axhline(x=0, color=\"b\")\n",
        "plt.show()\n",
        "\n",
        "elif opcion=="
      ],
      "metadata": {
        "id": "wfjJju-ticBx"
      },
      "execution_count": null,
      "outputs": []
    }
  ]
}